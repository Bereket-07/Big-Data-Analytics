{
 "cells": [
  {
   "metadata": {},
   "cell_type": "markdown",
   "source": "# Load the Amazon Canada Products 2023",
   "id": "ecc1a0b68a62561d"
  },
  {
   "metadata": {
    "ExecuteTime": {
     "end_time": "2025-02-08T05:16:51.698566800Z",
     "start_time": "2025-02-08T05:15:56.314970Z"
    }
   },
   "cell_type": "code",
   "source": [
    "import os , sys\n",
    "sys.path.append(os.path.abspath('../scripts'))"
   ],
   "id": "83cb1a7f9bcf35b4",
   "outputs": [],
   "execution_count": 2
  },
  {
   "metadata": {
    "ExecuteTime": {
     "end_time": "2025-02-08T05:16:51.713909700Z",
     "start_time": "2025-02-08T05:16:06.412285Z"
    }
   },
   "cell_type": "code",
   "source": [
    "import data_extraction as de\n",
    "import eda as ed"
   ],
   "id": "4e48fe286171088b",
   "outputs": [],
   "execution_count": 3
  },
  {
   "metadata": {
    "ExecuteTime": {
     "end_time": "2025-02-08T05:16:51.716860500Z",
     "start_time": "2025-02-08T05:16:13.341435Z"
    }
   },
   "cell_type": "code",
   "source": "amazon_df = de.load_csv('../data/amz_ca_total_products_data_processed.csv')",
   "id": "2b300463bfcaf941",
   "outputs": [],
   "execution_count": 4
  },
  {
   "metadata": {},
   "cell_type": "markdown",
   "source": "# The Head of the data set",
   "id": "6a6ff2ac1c81b086"
  },
  {
   "metadata": {
    "ExecuteTime": {
     "end_time": "2025-02-08T05:16:51.730778400Z",
     "start_time": "2025-02-08T05:16:27.181210Z"
    }
   },
   "cell_type": "code",
   "source": "amazon_df.head()",
   "id": "bcd417a1ec89f2fe",
   "outputs": [
    {
     "data": {
      "text/plain": [
       "         asin                                              title  \\\n",
       "0  B07CV4L6HX  Green Leaf WW3D Wonder Extension Cord Winder, ...   \n",
       "1  B09N1HGY74  8pcs Toilet Seat Bumpers Universal Toilet Repl...   \n",
       "2  B087P7538J  YaeCCC 19 Pcs Hole Saw Kit 3/4''(19mm)- 6''(15...   \n",
       "3  B0822FF7YQ  LLPT Butyl Putty Tape White 1 Inch x 33Ft Tigh...   \n",
       "4  B08NTR8NN4  Lightbeam 16\" Long Stem Deep Fry Thermometer w...   \n",
       "\n",
       "                                              imgUrl  \\\n",
       "0  https://m.media-amazon.com/images/I/81cRe0AVC4...   \n",
       "1  https://m.media-amazon.com/images/I/512CpB-EP5...   \n",
       "2  https://m.media-amazon.com/images/I/71P+qLFDFc...   \n",
       "3  https://m.media-amazon.com/images/I/61wfWLZRn-...   \n",
       "4  https://m.media-amazon.com/images/I/61qJG-y1He...   \n",
       "\n",
       "                            productURL  stars  reviews  price  listPrice  \\\n",
       "0  https://www.amazon.ca/dp/B07CV4L6HX    4.4     2876  47.69       0.00   \n",
       "1  https://www.amazon.ca/dp/B09N1HGY74    3.8       55  10.99       0.00   \n",
       "2  https://www.amazon.ca/dp/B087P7538J    4.0      126  25.99      27.99   \n",
       "3  https://www.amazon.ca/dp/B0822FF7YQ    4.5     1936  21.99      30.99   \n",
       "4  https://www.amazon.ca/dp/B08NTR8NN4    4.2       46  18.99       0.00   \n",
       "\n",
       "             categoryName  isBestSeller  boughtInLastMonth  \n",
       "0  Industrial  Scientific         False                  0  \n",
       "1  Industrial  Scientific         False                100  \n",
       "2  Industrial  Scientific         False                 50  \n",
       "3  Industrial  Scientific         False                100  \n",
       "4  Industrial  Scientific         False                100  "
      ],
      "text/html": [
       "<div>\n",
       "<style scoped>\n",
       "    .dataframe tbody tr th:only-of-type {\n",
       "        vertical-align: middle;\n",
       "    }\n",
       "\n",
       "    .dataframe tbody tr th {\n",
       "        vertical-align: top;\n",
       "    }\n",
       "\n",
       "    .dataframe thead th {\n",
       "        text-align: right;\n",
       "    }\n",
       "</style>\n",
       "<table border=\"1\" class=\"dataframe\">\n",
       "  <thead>\n",
       "    <tr style=\"text-align: right;\">\n",
       "      <th></th>\n",
       "      <th>asin</th>\n",
       "      <th>title</th>\n",
       "      <th>imgUrl</th>\n",
       "      <th>productURL</th>\n",
       "      <th>stars</th>\n",
       "      <th>reviews</th>\n",
       "      <th>price</th>\n",
       "      <th>listPrice</th>\n",
       "      <th>categoryName</th>\n",
       "      <th>isBestSeller</th>\n",
       "      <th>boughtInLastMonth</th>\n",
       "    </tr>\n",
       "  </thead>\n",
       "  <tbody>\n",
       "    <tr>\n",
       "      <th>0</th>\n",
       "      <td>B07CV4L6HX</td>\n",
       "      <td>Green Leaf WW3D Wonder Extension Cord Winder, ...</td>\n",
       "      <td>https://m.media-amazon.com/images/I/81cRe0AVC4...</td>\n",
       "      <td>https://www.amazon.ca/dp/B07CV4L6HX</td>\n",
       "      <td>4.4</td>\n",
       "      <td>2876</td>\n",
       "      <td>47.69</td>\n",
       "      <td>0.00</td>\n",
       "      <td>Industrial  Scientific</td>\n",
       "      <td>False</td>\n",
       "      <td>0</td>\n",
       "    </tr>\n",
       "    <tr>\n",
       "      <th>1</th>\n",
       "      <td>B09N1HGY74</td>\n",
       "      <td>8pcs Toilet Seat Bumpers Universal Toilet Repl...</td>\n",
       "      <td>https://m.media-amazon.com/images/I/512CpB-EP5...</td>\n",
       "      <td>https://www.amazon.ca/dp/B09N1HGY74</td>\n",
       "      <td>3.8</td>\n",
       "      <td>55</td>\n",
       "      <td>10.99</td>\n",
       "      <td>0.00</td>\n",
       "      <td>Industrial  Scientific</td>\n",
       "      <td>False</td>\n",
       "      <td>100</td>\n",
       "    </tr>\n",
       "    <tr>\n",
       "      <th>2</th>\n",
       "      <td>B087P7538J</td>\n",
       "      <td>YaeCCC 19 Pcs Hole Saw Kit 3/4''(19mm)- 6''(15...</td>\n",
       "      <td>https://m.media-amazon.com/images/I/71P+qLFDFc...</td>\n",
       "      <td>https://www.amazon.ca/dp/B087P7538J</td>\n",
       "      <td>4.0</td>\n",
       "      <td>126</td>\n",
       "      <td>25.99</td>\n",
       "      <td>27.99</td>\n",
       "      <td>Industrial  Scientific</td>\n",
       "      <td>False</td>\n",
       "      <td>50</td>\n",
       "    </tr>\n",
       "    <tr>\n",
       "      <th>3</th>\n",
       "      <td>B0822FF7YQ</td>\n",
       "      <td>LLPT Butyl Putty Tape White 1 Inch x 33Ft Tigh...</td>\n",
       "      <td>https://m.media-amazon.com/images/I/61wfWLZRn-...</td>\n",
       "      <td>https://www.amazon.ca/dp/B0822FF7YQ</td>\n",
       "      <td>4.5</td>\n",
       "      <td>1936</td>\n",
       "      <td>21.99</td>\n",
       "      <td>30.99</td>\n",
       "      <td>Industrial  Scientific</td>\n",
       "      <td>False</td>\n",
       "      <td>100</td>\n",
       "    </tr>\n",
       "    <tr>\n",
       "      <th>4</th>\n",
       "      <td>B08NTR8NN4</td>\n",
       "      <td>Lightbeam 16\" Long Stem Deep Fry Thermometer w...</td>\n",
       "      <td>https://m.media-amazon.com/images/I/61qJG-y1He...</td>\n",
       "      <td>https://www.amazon.ca/dp/B08NTR8NN4</td>\n",
       "      <td>4.2</td>\n",
       "      <td>46</td>\n",
       "      <td>18.99</td>\n",
       "      <td>0.00</td>\n",
       "      <td>Industrial  Scientific</td>\n",
       "      <td>False</td>\n",
       "      <td>100</td>\n",
       "    </tr>\n",
       "  </tbody>\n",
       "</table>\n",
       "</div>"
      ]
     },
     "execution_count": 5,
     "metadata": {},
     "output_type": "execute_result"
    }
   ],
   "execution_count": 5
  },
  {
   "metadata": {
    "ExecuteTime": {
     "end_time": "2025-02-08T05:16:51.734739600Z",
     "start_time": "2025-02-08T05:16:27.512534Z"
    }
   },
   "cell_type": "code",
   "source": "amazon_df.dtypes",
   "id": "2d15e4236407e776",
   "outputs": [
    {
     "data": {
      "text/plain": [
       "asin                  object\n",
       "title                 object\n",
       "imgUrl                object\n",
       "productURL            object\n",
       "stars                float64\n",
       "reviews                int64\n",
       "price                float64\n",
       "listPrice            float64\n",
       "categoryName          object\n",
       "isBestSeller            bool\n",
       "boughtInLastMonth      int64\n",
       "dtype: object"
      ]
     },
     "execution_count": 6,
     "metadata": {},
     "output_type": "execute_result"
    }
   ],
   "execution_count": 6
  },
  {
   "metadata": {},
   "cell_type": "markdown",
   "source": "## covert the data type of price from integer into float",
   "id": "5bc06704e0822687"
  },
  {
   "metadata": {
    "ExecuteTime": {
     "end_time": "2025-02-08T05:16:51.736754300Z",
     "start_time": "2025-02-08T05:16:27.618155Z"
    }
   },
   "cell_type": "code",
   "source": [
    "import pandas as pd\n",
    "amazon_df[\"price\"] = pd.to_numeric(amazon_df[\"price\"], errors=\"coerce\")\n"
   ],
   "id": "d344f7309b2b2466",
   "outputs": [],
   "execution_count": 7
  },
  {
   "metadata": {},
   "cell_type": "markdown",
   "source": "## Standardize column names\n",
   "id": "d57d8b3935cf8b3f"
  },
  {
   "metadata": {
    "ExecuteTime": {
     "end_time": "2025-02-08T05:16:51.738775100Z",
     "start_time": "2025-02-08T05:16:27.748032Z"
    }
   },
   "cell_type": "code",
   "source": "amazon_df.columns = amazon_df.columns.str.lower().str.replace(\" \", \"_\")",
   "id": "89315b13cb04ac65",
   "outputs": [],
   "execution_count": 8
  },
  {
   "metadata": {},
   "cell_type": "markdown",
   "source": "# Basic Info",
   "id": "7a7a1c75d4ad8237"
  },
  {
   "metadata": {
    "ExecuteTime": {
     "end_time": "2025-02-08T05:16:51.739521700Z",
     "start_time": "2025-02-08T05:16:27.835686Z"
    }
   },
   "cell_type": "code",
   "source": "de.display_basic_info(amazon_df)",
   "id": "12f196e6b74e4094",
   "outputs": [
    {
     "name": "stdout",
     "output_type": "stream",
     "text": [
      "The dataframe has 2165926 rows and 11 columns.\n",
      "<class 'pandas.core.frame.DataFrame'>\n",
      "RangeIndex: 2165926 entries, 0 to 2165925\n",
      "Data columns (total 11 columns):\n",
      " #   Column             Dtype  \n",
      "---  ------             -----  \n",
      " 0   asin               object \n",
      " 1   title              object \n",
      " 2   imgurl             object \n",
      " 3   producturl         object \n",
      " 4   stars              float64\n",
      " 5   reviews            int64  \n",
      " 6   price              float64\n",
      " 7   listprice          float64\n",
      " 8   categoryname       object \n",
      " 9   isbestseller       bool   \n",
      " 10  boughtinlastmonth  int64  \n",
      "dtypes: bool(1), float64(3), int64(2), object(5)\n",
      "memory usage: 167.3+ MB\n",
      "None\n",
      "              stars       reviews         price     listprice  \\\n",
      "count  2.165926e+06  2.165926e+06  2.165926e+06  2.165926e+06   \n",
      "mean   2.623661e+00  5.457391e+02  1.112207e+02  4.651383e+00   \n",
      "std    2.149905e+00  4.355225e+03  4.976653e+02  2.984392e+01   \n",
      "min    0.000000e+00  0.000000e+00  0.000000e+00  0.000000e+00   \n",
      "25%    0.000000e+00  0.000000e+00  1.542000e+01  0.000000e+00   \n",
      "50%    4.000000e+00  5.000000e+00  2.742000e+01  0.000000e+00   \n",
      "75%    4.500000e+00  1.230000e+02  5.750000e+01  0.000000e+00   \n",
      "max    5.000000e+00  8.688650e+05  4.090000e+04  9.999900e+02   \n",
      "\n",
      "       boughtinlastmonth  \n",
      "count       2.165926e+06  \n",
      "mean        9.004624e+00  \n",
      "std         9.838265e+01  \n",
      "min         0.000000e+00  \n",
      "25%         0.000000e+00  \n",
      "50%         0.000000e+00  \n",
      "75%         0.000000e+00  \n",
      "max         2.000000e+04  \n"
     ]
    }
   ],
   "execution_count": 9
  },
  {
   "metadata": {},
   "cell_type": "markdown",
   "source": "# The Exploratory Data Analysis",
   "id": "bce3aa90c78e942"
  },
  {
   "metadata": {
    "ExecuteTime": {
     "end_time": "2025-02-08T05:16:51.740277700Z",
     "start_time": "2025-02-08T05:16:28.462978Z"
    }
   },
   "cell_type": "code",
   "source": "ed.basic_data_cleaning(amazon_df)",
   "id": "6bc4625d8412f311",
   "outputs": [
    {
     "name": "stdout",
     "output_type": "stream",
     "text": [
      "handle missing values:\n",
      "missing values handeled successfully\n",
      "remove duplicates:\n",
      "duplicates removed successfully\n"
     ]
    }
   ],
   "execution_count": 10
  },
  {
   "metadata": {},
   "cell_type": "markdown",
   "source": "# Bivarite and Univarite Analysis",
   "id": "20dd8fc88a1602f7"
  },
  {
   "metadata": {},
   "cell_type": "markdown",
   "source": "### Distribution of price",
   "id": "cbed10d2084473b4"
  },
  {
   "metadata": {
    "ExecuteTime": {
     "end_time": "2025-02-08T05:16:51.740277700Z",
     "start_time": "2025-02-08T05:16:37.992986Z"
    }
   },
   "cell_type": "code",
   "source": "ed.distribution_of_price(amazon_df)",
   "id": "11b3bb948b7c0039",
   "outputs": [
    {
     "data": {
      "text/plain": [
       "<Figure size 1000x500 with 1 Axes>"
      ],
      "image/png": "[encoded data removed]"
     },
     "metadata": {},
     "output_type": "display_data"
    }
   ],
   "execution_count": 11
  },
  {
   "metadata": {},
   "cell_type": "markdown",
   "source": "## price vs Rating",
   "id": "8c822b725628b3c9"
  },
  {
   "metadata": {
    "ExecuteTime": {
     "end_time": "2025-02-08T05:16:58.473820Z",
     "start_time": "2025-02-08T05:16:51.997790Z"
    }
   },
   "cell_type": "code",
   "source": "ed.price_vs_rating(amazon_df)",
   "id": "f1aacedf88e9e121",
   "outputs": [
    {
     "data": {
      "text/plain": [
       "<Figure size 1000x600 with 1 Axes>"
      ],
      "image/png": "[encoded data removed]"
     },
     "metadata": {},
     "output_type": "display_data"
    }
   ],
   "execution_count": 14
  },
  {
   "metadata": {},
   "cell_type": "markdown",
   "source": "# Saving he cleaned dataset",
   "id": "c456032d5a5d173c"
  },
  {
   "metadata": {
    "ExecuteTime": {
     "end_time": "2025-02-08T05:25:10.123325Z",
     "start_time": "2025-02-08T05:24:28.026611Z"
    }
   },
   "cell_type": "code",
   "source": "amazon_df.to_csv(\"../data/cleaned_amazon_data.csv\", index=False)\n",
   "id": "2e5bcdcba2834d3b",
   "outputs": [],
   "execution_count": 16
  },
  {
   "metadata": {},
   "cell_type": "code",
   "outputs": [],
   "execution_count": null,
   "source": "",
   "id": "ca57d549b5d66c23"
  }
 ],
 "metadata": {
  "kernelspec": {
   "display_name": "Python 3",
   "language": "python",
   "name": "python3"
  },
  "language_info": {
   "codemirror_mode": {
    "name": "ipython",
    "version": 2
   },
   "file_extension": ".py",
   "mimetype": "text/x-python",
   "name": "python",
   "nbconvert_exporter": "python",
   "pygments_lexer": "ipython2",
   "version": "2.7.6"
  }
 },
 "nbformat": 4,
 "nbformat_minor": 5
}
